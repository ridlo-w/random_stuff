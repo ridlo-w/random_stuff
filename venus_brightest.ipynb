{
 "cells": [
  {
   "cell_type": "code",
   "execution_count": 1,
   "metadata": {},
   "outputs": [],
   "source": [
    "import numpy as np\n",
    "import matplotlib.pyplot as plt\n",
    "import pandas as pd\n",
    "\n",
    "%matplotlib inline"
   ]
  },
  {
   "cell_type": "code",
   "execution_count": 2,
   "metadata": {},
   "outputs": [],
   "source": [
    "t = np.arange(0, 584)\n",
    "T = 584 # Synodic periode of Venus\n",
    "dV = 0.72333902851 # \n",
    "dE = 1.0"
   ]
  },
  {
   "cell_type": "code",
   "execution_count": 3,
   "metadata": {},
   "outputs": [
    {
     "name": "stdout",
     "output_type": "stream",
     "text": [
      "Maximum elongation:  46.330849401325  deg\n",
      "Maximum elongation happened  70.84106652673945  days before and after inferior conjunction\n"
     ]
    }
   ],
   "source": [
    "# maximum elongation\n",
    "elo_max = np.arcsin(dV/dE)\n",
    "print(\"Maximum elongation: \", np.degrees(elo_max), \" deg\")\n",
    "\n",
    "# theta at max elongation\n",
    "theta_elomax = np.pi/2. - elo_max\n",
    "t_elomax = theta_elomax/(2*np.pi) * T\n",
    "print(\"Maximum elongation happened \", t_elomax, \" days before and after inferior conjunction\")"
   ]
  },
  {
   "cell_type": "code",
   "execution_count": 4,
   "metadata": {},
   "outputs": [],
   "source": [
    "# angle at Sun\n",
    "theta = []\n",
    "for ti in t:\n",
    "    theta_i = ti/T*2*np.pi\n",
    "    if theta_i < np.pi:\n",
    "        theta.append(theta_i)\n",
    "    else:\n",
    "        theta.append(2*np.pi - theta_i)"
   ]
  },
  {
   "cell_type": "code",
   "execution_count": 5,
   "metadata": {},
   "outputs": [
    {
     "data": {
      "text/plain": [
       "Text(0, 0.5, '$\\\\theta$ [deg]')"
      ]
     },
     "execution_count": 5,
     "metadata": {},
     "output_type": "execute_result"
    },
    {
     "data": {
      "image/png": "[encoded data removed]",
      "text/plain": [
       "<Figure size 432x288 with 1 Axes>"
      ]
     },
     "metadata": {
      "needs_background": "light"
     },
     "output_type": "display_data"
    }
   ],
   "source": [
    "plt.plot(t, np.degrees(theta), 'b,')\n",
    "plt.xlabel(r\"$t$ [days]\")\n",
    "plt.ylabel(r\"$\\theta$ [deg]\")"
   ]
  },
  {
   "cell_type": "code",
   "execution_count": 6,
   "metadata": {},
   "outputs": [],
   "source": [
    "# Venus-Earth distance\n",
    "d = np.sqrt(dE*dE + dV*dV - 2*dE*dV*np.cos(theta))"
   ]
  },
  {
   "cell_type": "code",
   "execution_count": 7,
   "metadata": {},
   "outputs": [
    {
     "data": {
      "text/plain": [
       "Text(0, 0.5, '$d [au]$')"
      ]
     },
     "execution_count": 7,
     "metadata": {},
     "output_type": "execute_result"
    },
    {
     "data": {
      "image/png": "[encoded data removed]",
      "text/plain": [
       "<Figure size 432x288 with 1 Axes>"
      ]
     },
     "metadata": {
      "needs_background": "light"
     },
     "output_type": "display_data"
    }
   ],
   "source": [
    "plt.plot(t, d, 'b,')\n",
    "plt.xlabel(r\"$t$ [days]\")\n",
    "plt.ylabel(r\"$d [au]$\")"
   ]
  },
  {
   "cell_type": "code",
   "execution_count": 8,
   "metadata": {},
   "outputs": [],
   "source": [
    "# phase angle\n",
    "# phi = np.arcsin(np.sin(theta_i)/d)\n",
    "phi = []\n",
    "for i, theta_i in enumerate(theta):\n",
    "    phi_i = np.arcsin(np.sin(theta_i)/d[i])\n",
    "    if theta_i < theta_elomax:\n",
    "        phi.append(np.pi - phi_i)\n",
    "    else:\n",
    "        phi.append(phi_i)"
   ]
  },
  {
   "cell_type": "code",
   "execution_count": 9,
   "metadata": {},
   "outputs": [
    {
     "data": {
      "text/plain": [
       "Text(0, 0.5, '$\\\\phi$ [deg]')"
      ]
     },
     "execution_count": 9,
     "metadata": {},
     "output_type": "execute_result"
    },
    {
     "data": {
      "image/png": "[encoded data removed]",
      "text/plain": [
       "<Figure size 432x288 with 1 Axes>"
      ]
     },
     "metadata": {
      "needs_background": "light"
     },
     "output_type": "display_data"
    }
   ],
   "source": [
    "plt.plot(t, np.degrees(phi), 'r,')\n",
    "plt.xlabel(r\"$t$ [days]\")\n",
    "plt.ylabel(r\"$\\phi$ [deg]\")"
   ]
  },
  {
   "cell_type": "code",
   "execution_count": 10,
   "metadata": {},
   "outputs": [],
   "source": [
    "# phase\n",
    "q = 0.5*(1 + np.cos(phi))"
   ]
  },
  {
   "cell_type": "code",
   "execution_count": 11,
   "metadata": {},
   "outputs": [
    {
     "data": {
      "text/plain": [
       "Text(0, 0.5, '$q$')"
      ]
     },
     "execution_count": 11,
     "metadata": {},
     "output_type": "execute_result"
    },
    {
     "data": {
      "image/png": "[encoded data removed]",
      "text/plain": [
       "<Figure size 432x288 with 1 Axes>"
      ]
     },
     "metadata": {
      "needs_background": "light"
     },
     "output_type": "display_data"
    }
   ],
   "source": [
    "plt.plot(t, q, 'b,')\n",
    "plt.xlabel(r\"$t$ [days]\")\n",
    "plt.ylabel(r\"$q$\")"
   ]
  },
  {
   "cell_type": "code",
   "execution_count": 12,
   "metadata": {},
   "outputs": [],
   "source": [
    "# brightness function\n",
    "E = q/(d*d)"
   ]
  },
  {
   "cell_type": "code",
   "execution_count": 13,
   "metadata": {},
   "outputs": [],
   "source": [
    "data = np.array([t, theta, d, phi, q, E])\n",
    "df = pd.DataFrame(data.T, columns=[\"t\", \"theta\", \"d\", \"phi\", \"q\", \"E\"])"
   ]
  },
  {
   "cell_type": "code",
   "execution_count": 14,
   "metadata": {},
   "outputs": [],
   "source": [
    "df.to_csv(\"venus_brightest.csv\")"
   ]
  },
  {
   "cell_type": "code",
   "execution_count": 15,
   "metadata": {},
   "outputs": [
    {
     "data": {
      "text/plain": [
       "Text(0, 0.5, 'Relative brightness')"
      ]
     },
     "execution_count": 15,
     "metadata": {},
     "output_type": "execute_result"
    },
    {
     "data": {
      "image/png": "[encoded data removed]",
      "text/plain": [
       "<Figure size 432x288 with 1 Axes>"
      ]
     },
     "metadata": {
      "needs_background": "light"
     },
     "output_type": "display_data"
    }
   ],
   "source": [
    "plt.plot(t, E, 'g.')\n",
    "plt.vlines(t_elomax, 0, 1.5, colors='k', ls='--')\n",
    "plt.vlines(T-t_elomax, 0, 1.5, colors='k', ls='--')\n",
    "plt.xlabel(r\"$t$ [days]\")\n",
    "plt.ylabel(r\"Relative brightness\")"
   ]
  },
  {
   "cell_type": "code",
   "execution_count": 16,
   "metadata": {},
   "outputs": [
    {
     "name": "stdout",
     "output_type": "stream",
     "text": [
      "Brightest Venus can be seen at 36 days before and after the inferior conjunction\n",
      "OR \n",
      "~ 35.0 days before Western maximum elongation and after Eastern maximum elongation\n"
     ]
    }
   ],
   "source": [
    "# Brightest Venus can be seen at\n",
    "print(\"Brightest Venus can be seen at\", np.argmax(E), \"days before and after the inferior conjunction\")\n",
    "print(\"OR \\n~\", np.round(t_elomax-np.argmax(E)), \"days before Western maximum elongation and after Eastern maximum elongation\")"
   ]
  },
  {
   "cell_type": "code",
   "execution_count": null,
   "metadata": {},
   "outputs": [],
   "source": []
  }
 ],
 "metadata": {
  "kernelspec": {
   "display_name": "Python 3",
   "language": "python",
   "name": "python3"
  },
  "language_info": {
   "codemirror_mode": {
    "name": "ipython",
    "version": 3
   },
   "file_extension": ".py",
   "mimetype": "text/x-python",
   "name": "python",
   "nbconvert_exporter": "python",
   "pygments_lexer": "ipython3",
   "version": "3.7.1"
  }
 },
 "nbformat": 4,
 "nbformat_minor": 4
}
